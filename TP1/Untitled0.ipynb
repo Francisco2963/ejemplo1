{
  "nbformat": 4,
  "nbformat_minor": 0,
  "metadata": {
    "colab": {
      "provenance": [],
      "authorship_tag": "ABX9TyN6A58Q30bnzRriOQ5svAyF",
      "include_colab_link": true
    },
    "kernelspec": {
      "name": "python3",
      "display_name": "Python 3"
    },
    "language_info": {
      "name": "python"
    }
  },
  "cells": [
    {
      "cell_type": "markdown",
      "metadata": {
        "id": "view-in-github",
        "colab_type": "text"
      },
      "source": [
        "<a href=\"https://colab.research.google.com/github/Francisco2963/ejemplo1/blob/main/TP1/Untitled0.ipynb\" target=\"_parent\"><img src=\"https://colab.research.google.com/assets/colab-badge.svg\" alt=\"Open In Colab\"/></a>"
      ]
    },
    {
      "cell_type": "code",
      "execution_count": null,
      "metadata": {
        "id": "0hl91KGcD2v7"
      },
      "outputs": [],
      "source": []
    },
    {
      "cell_type": "markdown",
      "source": [
        "#Intrucciones\n",
        "\n",
        "**#Descripcion del problema:**\n",
        " Imagina que estas desarrollando un sistema de gestion de calificaciones para una escuela. El sistema debe permitir a los profesores ingresar las calificaciones de los estudiantes para diferentes asignaturas y luego calcular el promedio de cada estudiante. Ademas, el sistema debe determinar si el estudiante ha aprobado o reprobado basandose en su promedio. Para abrobar, un estudiante debe tener un promedio de al menos 6.0\n",
        "\n",
        "** #Requisitos del Sistema:**\n",
        "\n",
        "\n",
        " El programa debe pedir al usuario que ingrese el numero de estudiantes.\n",
        "\n",
        " Para cada estudiante, el programa debe pedir al usuario que ingrese su nombre.\n",
        "\n",
        " Luego, el programa debe pedir al usuario que ingrese el numero de asignaturas.\n",
        "\n",
        " Para cada asignatura, el programa debe pedir al usuario que ingrese el numero de asignaturas\n",
        "\n",
        " Para cada asignatura, el programa debe pedir al usuario que ingrese el nombre de la asignatura y la calificacion obtenida.\n",
        "\n",
        " El programa debe calcular el promedio de calificaciones para cada estudiante.\n",
        "\n",
        " Finalmente, el programa debe imprimir el nombre del estudiante, su promedio y un mensaje indicando si ha aprobado o reprobado.\n",
        "\n",
        " **#Detalles especificos**\n",
        "\n",
        " Si se ingresa un valor no numerico para una calificacion, el programa debe manejar el error e indicar que se ha ingresado un valor no valido.\n",
        "\n",
        " Si se ingresa una calificacion fuera de rango de 0 a 10 el programa debe ignorar esa calificacion y pedir al usuario que ingrese una calificacion valida.\n",
        "\n",
        " El programa debe imprimir un resumen al final que incluya el nombre de todos los estudiantes, sus promedios y su estado (aprobado o reprobado).\n",
        "\n",
        " El programa debe ser robusto y manejar casos en los que no se ingresen datos o se ingresen datos incorrectos.\n",
        "\n",
        " **# Consideraciones Adicionales:**\n",
        "\n",
        " Asegurece de utilizar funciones para organizar su codigo y evitar redundancias.\n",
        "\n",
        " Usa comentarios para explicar cada seccion de tu codigo.\n",
        "\n",
        " Considera posibles errores y como manejarlos adecuadamente.\n",
        "\n",
        " Piensa en la experiencia del usuario y asegurate de que las instrucciones sean claras y concisas.\n",
        "\n"
      ],
      "metadata": {
        "id": "J9Uix6M9SpMW"
      }
    },
    {
      "cell_type": "code",
      "source": [
        "num_estudiantes = int(input(\"Ingrese el numero de estudiantes: \"))\n",
        "estudiantes = []\n",
        "for i in range(num_estudiantes):\n",
        "    nombre = input(f\"Ingrese el nombre del estudiante {i+1}: \")\n",
        "    num_asignaturas = int(input(f\"Ingrese el numero de asignaturas del estudiante {nombre}: \"))\n",
        "    calificaciones = []\n",
        "    promedio = []\n",
        "    estado = []\n",
        "    for j in range(num_asignaturas):\n",
        "        asignatura = input(f\"Ingrese el nombre de la asignatura {j+1}: \")\n",
        "        calificacion = float(input(f\"Ingrese la calificacion obtenida en {asignatura}: \"))\n",
        "        if calificacion >= 0 and calificacion <= 10:\n",
        "            calificaciones.append(calificacion)\n",
        "        else:\n",
        "            print(f\"La calificacion {calificacion} no es valida para {asignatura}\")\n",
        "    for calificacion in calificaciones:\n",
        "        promedio.append(calificacion)\n",
        "        if promedio =any:\n",
        "            estado.append(\"Aprobado\")\n",
        "        else:\n",
        "            estado.append(\"Reprobado\")\n",
        "    estudiantes.append({\"nombre\": nombre, \"calificaciones\": calificaciones, \"promedio\": promedio, \"estado\": estado})\n",
        "\n",
        "for estudiante in estudiantes:\n",
        "    print(f\"Nombre: {estudiante['nombre']}\")\n",
        "    print(f\"Promedio: {sum(estudiante['promedio'])/len(estudiante['promedio'])}\")\n",
        "    print(f\"Estado: {estudiante['estado']}\")\n",
        "    print()\n",
        "\n"
      ],
      "metadata": {
        "colab": {
          "base_uri": "https://localhost:8080/",
          "height": 106
        },
        "id": "saOGiDpCdFBv",
        "outputId": "6b4d77f7-4acf-4101-e236-2c1e98f5a52d"
      },
      "execution_count": null,
      "outputs": [
        {
          "output_type": "error",
          "ename": "SyntaxError",
          "evalue": "invalid syntax. Maybe you meant '==' or ':=' instead of '='? (<ipython-input-1-4dcc22987f21>, line 18)",
          "traceback": [
            "\u001b[0;36m  File \u001b[0;32m\"<ipython-input-1-4dcc22987f21>\"\u001b[0;36m, line \u001b[0;32m18\u001b[0m\n\u001b[0;31m    if promedio =any:\u001b[0m\n\u001b[0m       ^\u001b[0m\n\u001b[0;31mSyntaxError\u001b[0m\u001b[0;31m:\u001b[0m invalid syntax. Maybe you meant '==' or ':=' instead of '='?\n"
          ]
        }
      ]
    }
  ]
}