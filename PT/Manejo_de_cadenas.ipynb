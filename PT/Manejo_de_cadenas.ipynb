{
  "nbformat": 4,
  "nbformat_minor": 0,
  "metadata": {
    "colab": {
      "provenance": [],
      "authorship_tag": "ABX9TyO8/LjplUUnYMOIexjHZp+s",
      "include_colab_link": true
    },
    "kernelspec": {
      "name": "python3",
      "display_name": "Python 3"
    },
    "language_info": {
      "name": "python"
    }
  },
  "cells": [
    {
      "cell_type": "markdown",
      "metadata": {
        "id": "view-in-github",
        "colab_type": "text"
      },
      "source": [
        "<a href=\"https://colab.research.google.com/github/Francisco2963/ejemplo1/blob/main/PT/Manejo_de_cadenas.ipynb\" target=\"_parent\"><img src=\"https://colab.research.google.com/assets/colab-badge.svg\" alt=\"Open In Colab\"/></a>"
      ]
    },
    {
      "cell_type": "markdown",
      "source": [
        "**Ejercicio 1: Saludo personalizado:**\n",
        "1.- Crea un programa que pida al usuario su nombre y edad y luego imprima un saludo personalziado.\n",
        "2.- usa input para capturar el nombre y la edad.\n",
        "3.- Usa print para mostrar el saludo.\n",
        "\n",
        "\n",
        "\n",
        "\n",
        "\n",
        "\n",
        "\n"
      ],
      "metadata": {
        "id": "DlWbCDDAlROj"
      }
    },
    {
      "cell_type": "code",
      "source": [
        "nombre = input(\"Ingrese su nombre: \")\n",
        "edad = int(input(\"Ingrese su edad: \"))\n",
        "\n",
        "print(f\"Hola {nombre}, tu edad es {edad}\")"
      ],
      "metadata": {
        "colab": {
          "base_uri": "https://localhost:8080/"
        },
        "id": "1htOOLpZmWGJ",
        "outputId": "8f583a3c-4e7b-4be1-c5f5-4f1684817a06"
      },
      "execution_count": null,
      "outputs": [
        {
          "output_type": "stream",
          "name": "stdout",
          "text": [
            "Ingrese su nombre: Francisco\n",
            "Ingrese su edad: 51\n",
            "Hola Francisco, tu edad es 51\n"
          ]
        }
      ]
    },
    {
      "cell_type": "markdown",
      "source": [
        "**Ejercicio 2: Manipulacion de cadenas:**\n",
        "1.- Crea una cadena con tu nombre completo.\n",
        "2.- Usa los metodos de cadenas para:\n",
        "a.- Convertir el nombre a mayusculas y minisculas.\n",
        "b.- Contar el numero e letras en tu nombre.\n",
        "c.- Reemplazar tu primer nombre por otro nombre."
      ],
      "metadata": {
        "id": "JoUu7InxrGrq"
      }
    },
    {
      "cell_type": "code",
      "source": [
        "nombre = \"Francisco Javier Barrios Martinez\"\n",
        "nuevo_nombre = nombre.replace(\"Francisco\", \"Juan\")\n",
        "print(nombre.upper())\n",
        "print(nombre.lower())\n",
        "print(len(nombre))\n",
        "print(nuevo_nombre)"
      ],
      "metadata": {
        "colab": {
          "base_uri": "https://localhost:8080/"
        },
        "id": "giZK8NGQrq3z",
        "outputId": "07c42be7-3557-49f8-b572-8e86d539eedf"
      },
      "execution_count": null,
      "outputs": [
        {
          "output_type": "stream",
          "name": "stdout",
          "text": [
            "FRANCISCO JAVIER BARRIOS MARTINEZ\n",
            "francisco javier barrios martinez\n",
            "33\n",
            "Juan Javier Barrios Martinez\n"
          ]
        }
      ]
    },
    {
      "cell_type": "markdown",
      "source": [
        "**Ejercicio 3: Lista de Nombres:**\n",
        "1.- Pide al usuario que ingrese una lista de nombres separados por comas.\n",
        "2.- Usa split para convertir esta cadena en una lista de nombres.\n",
        "3.- Imprime cada nombre en una linea separada."
      ],
      "metadata": {
        "id": "UAgEIN8Eu7XN"
      }
    },
    {
      "cell_type": "code",
      "source": [
        "nombres = \"Francisco, Javier, Claudia, Matilda, Isidora\"\n",
        "lista_nombres = nombres.split(\", \")\n",
        "for nombre in lista_nombres:\n",
        "    print(nombre)"
      ],
      "metadata": {
        "colab": {
          "base_uri": "https://localhost:8080/"
        },
        "id": "RaMCkluTveWR",
        "outputId": "df00a7b8-074e-4cd3-b776-1680d46298de"
      },
      "execution_count": null,
      "outputs": [
        {
          "output_type": "stream",
          "name": "stdout",
          "text": [
            "Francisco\n",
            "Javier\n",
            "Claudia\n",
            "Matilda\n",
            "Isidora\n"
          ]
        }
      ]
    }
  ]
}